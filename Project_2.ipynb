{
 "cells": [
  {
   "cell_type": "code",
   "execution_count": 6,
   "id": "fd392015",
   "metadata": {},
   "outputs": [],
   "source": [
    "url = \"~/Desktop/DATA_FT_May_2025/Week 3/data_events.csv\""
   ]
  },
  {
   "cell_type": "code",
   "execution_count": null,
   "id": "0feaa632",
   "metadata": {},
   "outputs": [
    {
     "data": {
      "text/html": [
       "<div>\n",
       "<style scoped>\n",
       "    .dataframe tbody tr th:only-of-type {\n",
       "        vertical-align: middle;\n",
       "    }\n",
       "\n",
       "    .dataframe tbody tr th {\n",
       "        vertical-align: top;\n",
       "    }\n",
       "\n",
       "    .dataframe thead th {\n",
       "        text-align: right;\n",
       "    }\n",
       "</style>\n",
       "<table border=\"1\" class=\"dataframe\">\n",
       "  <thead>\n",
       "    <tr style=\"text-align: right;\">\n",
       "      <th></th>\n",
       "      <th>Unnamed: 0</th>\n",
       "      <th>name</th>\n",
       "      <th>description</th>\n",
       "      <th>url</th>\n",
       "      <th>locale</th>\n",
       "      <th>timezone</th>\n",
       "      <th>date</th>\n",
       "      <th>time</th>\n",
       "      <th>segment</th>\n",
       "      <th>genre</th>\n",
       "      <th>subgenre</th>\n",
       "      <th>venue</th>\n",
       "      <th>city</th>\n",
       "      <th>country</th>\n",
       "      <th>address</th>\n",
       "      <th>upcoming_events</th>\n",
       "    </tr>\n",
       "  </thead>\n",
       "  <tbody>\n",
       "    <tr>\n",
       "      <th>0</th>\n",
       "      <td>0</td>\n",
       "      <td>15 000 voix pour les legendes du rock</td>\n",
       "      <td>en tournée à partir de 2026vivez une expérienc...</td>\n",
       "      <td>https://www.ticketmaster.fr/fr/manifestation/1...</td>\n",
       "      <td>fr-fr</td>\n",
       "      <td>Europe/Paris</td>\n",
       "      <td>2026-06-05</td>\n",
       "      <td>20:00:00</td>\n",
       "      <td>Music</td>\n",
       "      <td>Rock</td>\n",
       "      <td>Pop</td>\n",
       "      <td>zenith toulouse metropole</td>\n",
       "      <td>Toulouse</td>\n",
       "      <td>France</td>\n",
       "      <td>11 avenue raymond badiou</td>\n",
       "      <td>111</td>\n",
       "    </tr>\n",
       "    <tr>\n",
       "      <th>1</th>\n",
       "      <td>1</td>\n",
       "      <td>dirty dancing - l'ecran pop cinéma-karaoké:dir...</td>\n",
       "      <td>tal ticket présente : l'ecran pop cinéma-karao...</td>\n",
       "      <td>https://www.ticketmaster.fr/fr/manifestation/d...</td>\n",
       "      <td>fr-fr</td>\n",
       "      <td>Europe/Paris</td>\n",
       "      <td>2025-06-06</td>\n",
       "      <td>20:00:00</td>\n",
       "      <td>Film</td>\n",
       "      <td>Music</td>\n",
       "      <td>Music</td>\n",
       "      <td>cinema pathe wilson</td>\n",
       "      <td>Toulouse</td>\n",
       "      <td>France</td>\n",
       "      <td>3 pl. du président thomas wilson</td>\n",
       "      <td>2</td>\n",
       "    </tr>\n",
       "    <tr>\n",
       "      <th>2</th>\n",
       "      <td>2</td>\n",
       "      <td>mamma mia ! - l'ecran pop cinéma-karaoké : mam...</td>\n",
       "      <td>tal ticket présente : l'ecran pop cinéma-karao...</td>\n",
       "      <td>https://www.ticketmaster.fr/fr/manifestation/m...</td>\n",
       "      <td>fr-fr</td>\n",
       "      <td>Europe/Paris</td>\n",
       "      <td>2025-09-25</td>\n",
       "      <td>20:00:00</td>\n",
       "      <td>Film</td>\n",
       "      <td>Music</td>\n",
       "      <td>Music</td>\n",
       "      <td>cinema pathe wilson</td>\n",
       "      <td>Toulouse</td>\n",
       "      <td>France</td>\n",
       "      <td>3 pl. du président thomas wilson</td>\n",
       "      <td>2</td>\n",
       "    </tr>\n",
       "  </tbody>\n",
       "</table>\n",
       "</div>"
      ],
      "text/plain": [
       "   Unnamed: 0                                               name  \\\n",
       "0           0              15 000 voix pour les legendes du rock   \n",
       "1           1  dirty dancing - l'ecran pop cinéma-karaoké:dir...   \n",
       "2           2  mamma mia ! - l'ecran pop cinéma-karaoké : mam...   \n",
       "\n",
       "                                         description  \\\n",
       "0  en tournée à partir de 2026vivez une expérienc...   \n",
       "1  tal ticket présente : l'ecran pop cinéma-karao...   \n",
       "2  tal ticket présente : l'ecran pop cinéma-karao...   \n",
       "\n",
       "                                                 url locale      timezone  \\\n",
       "0  https://www.ticketmaster.fr/fr/manifestation/1...  fr-fr  Europe/Paris   \n",
       "1  https://www.ticketmaster.fr/fr/manifestation/d...  fr-fr  Europe/Paris   \n",
       "2  https://www.ticketmaster.fr/fr/manifestation/m...  fr-fr  Europe/Paris   \n",
       "\n",
       "         date      time segment  genre subgenre                      venue  \\\n",
       "0  2026-06-05  20:00:00   Music   Rock      Pop  zenith toulouse metropole   \n",
       "1  2025-06-06  20:00:00    Film  Music    Music        cinema pathe wilson   \n",
       "2  2025-09-25  20:00:00    Film  Music    Music        cinema pathe wilson   \n",
       "\n",
       "       city country                           address  upcoming_events  \n",
       "0  Toulouse  France          11 avenue raymond badiou              111  \n",
       "1  Toulouse  France  3 pl. du président thomas wilson                2  \n",
       "2  Toulouse  France  3 pl. du président thomas wilson                2  "
      ]
     },
     "execution_count": 11,
     "metadata": {},
     "output_type": "execute_result"
    }
   ],
   "source": [
    "import pandas as pd\n",
    "df_events = pd.read_csv(url)\n",
    "df_events.head(3)"
   ]
  },
  {
   "cell_type": "code",
   "execution_count": 12,
   "id": "23be1915",
   "metadata": {},
   "outputs": [],
   "source": [
    "df_events.drop(\"Unnamed: 0\", axis = 1, inplace = True)"
   ]
  },
  {
   "cell_type": "code",
   "execution_count": 13,
   "id": "3f3f63f8",
   "metadata": {},
   "outputs": [
    {
     "data": {
      "text/html": [
       "<div>\n",
       "<style scoped>\n",
       "    .dataframe tbody tr th:only-of-type {\n",
       "        vertical-align: middle;\n",
       "    }\n",
       "\n",
       "    .dataframe tbody tr th {\n",
       "        vertical-align: top;\n",
       "    }\n",
       "\n",
       "    .dataframe thead th {\n",
       "        text-align: right;\n",
       "    }\n",
       "</style>\n",
       "<table border=\"1\" class=\"dataframe\">\n",
       "  <thead>\n",
       "    <tr style=\"text-align: right;\">\n",
       "      <th></th>\n",
       "      <th>name</th>\n",
       "      <th>description</th>\n",
       "      <th>url</th>\n",
       "      <th>locale</th>\n",
       "      <th>timezone</th>\n",
       "      <th>date</th>\n",
       "      <th>time</th>\n",
       "      <th>segment</th>\n",
       "      <th>genre</th>\n",
       "      <th>subgenre</th>\n",
       "      <th>venue</th>\n",
       "      <th>city</th>\n",
       "      <th>country</th>\n",
       "      <th>address</th>\n",
       "      <th>upcoming_events</th>\n",
       "    </tr>\n",
       "  </thead>\n",
       "  <tbody>\n",
       "    <tr>\n",
       "      <th>0</th>\n",
       "      <td>15 000 voix pour les legendes du rock</td>\n",
       "      <td>en tournée à partir de 2026vivez une expérienc...</td>\n",
       "      <td>https://www.ticketmaster.fr/fr/manifestation/1...</td>\n",
       "      <td>fr-fr</td>\n",
       "      <td>Europe/Paris</td>\n",
       "      <td>2026-06-05</td>\n",
       "      <td>20:00:00</td>\n",
       "      <td>Music</td>\n",
       "      <td>Rock</td>\n",
       "      <td>Pop</td>\n",
       "      <td>zenith toulouse metropole</td>\n",
       "      <td>Toulouse</td>\n",
       "      <td>France</td>\n",
       "      <td>11 avenue raymond badiou</td>\n",
       "      <td>111</td>\n",
       "    </tr>\n",
       "    <tr>\n",
       "      <th>1</th>\n",
       "      <td>dirty dancing - l'ecran pop cinéma-karaoké:dir...</td>\n",
       "      <td>tal ticket présente : l'ecran pop cinéma-karao...</td>\n",
       "      <td>https://www.ticketmaster.fr/fr/manifestation/d...</td>\n",
       "      <td>fr-fr</td>\n",
       "      <td>Europe/Paris</td>\n",
       "      <td>2025-06-06</td>\n",
       "      <td>20:00:00</td>\n",
       "      <td>Film</td>\n",
       "      <td>Music</td>\n",
       "      <td>Music</td>\n",
       "      <td>cinema pathe wilson</td>\n",
       "      <td>Toulouse</td>\n",
       "      <td>France</td>\n",
       "      <td>3 pl. du président thomas wilson</td>\n",
       "      <td>2</td>\n",
       "    </tr>\n",
       "    <tr>\n",
       "      <th>2</th>\n",
       "      <td>mamma mia ! - l'ecran pop cinéma-karaoké : mam...</td>\n",
       "      <td>tal ticket présente : l'ecran pop cinéma-karao...</td>\n",
       "      <td>https://www.ticketmaster.fr/fr/manifestation/m...</td>\n",
       "      <td>fr-fr</td>\n",
       "      <td>Europe/Paris</td>\n",
       "      <td>2025-09-25</td>\n",
       "      <td>20:00:00</td>\n",
       "      <td>Film</td>\n",
       "      <td>Music</td>\n",
       "      <td>Music</td>\n",
       "      <td>cinema pathe wilson</td>\n",
       "      <td>Toulouse</td>\n",
       "      <td>France</td>\n",
       "      <td>3 pl. du président thomas wilson</td>\n",
       "      <td>2</td>\n",
       "    </tr>\n",
       "  </tbody>\n",
       "</table>\n",
       "</div>"
      ],
      "text/plain": [
       "                                                name  \\\n",
       "0              15 000 voix pour les legendes du rock   \n",
       "1  dirty dancing - l'ecran pop cinéma-karaoké:dir...   \n",
       "2  mamma mia ! - l'ecran pop cinéma-karaoké : mam...   \n",
       "\n",
       "                                         description  \\\n",
       "0  en tournée à partir de 2026vivez une expérienc...   \n",
       "1  tal ticket présente : l'ecran pop cinéma-karao...   \n",
       "2  tal ticket présente : l'ecran pop cinéma-karao...   \n",
       "\n",
       "                                                 url locale      timezone  \\\n",
       "0  https://www.ticketmaster.fr/fr/manifestation/1...  fr-fr  Europe/Paris   \n",
       "1  https://www.ticketmaster.fr/fr/manifestation/d...  fr-fr  Europe/Paris   \n",
       "2  https://www.ticketmaster.fr/fr/manifestation/m...  fr-fr  Europe/Paris   \n",
       "\n",
       "         date      time segment  genre subgenre                      venue  \\\n",
       "0  2026-06-05  20:00:00   Music   Rock      Pop  zenith toulouse metropole   \n",
       "1  2025-06-06  20:00:00    Film  Music    Music        cinema pathe wilson   \n",
       "2  2025-09-25  20:00:00    Film  Music    Music        cinema pathe wilson   \n",
       "\n",
       "       city country                           address  upcoming_events  \n",
       "0  Toulouse  France          11 avenue raymond badiou              111  \n",
       "1  Toulouse  France  3 pl. du président thomas wilson                2  \n",
       "2  Toulouse  France  3 pl. du président thomas wilson                2  "
      ]
     },
     "execution_count": 13,
     "metadata": {},
     "output_type": "execute_result"
    }
   ],
   "source": [
    "df_events.head(3)"
   ]
  },
  {
   "cell_type": "code",
   "execution_count": 15,
   "id": "af5a970a",
   "metadata": {},
   "outputs": [
    {
     "data": {
      "text/plain": [
       "Index(['name', 'description', 'url', 'locale', 'timezone', 'date', 'time',\n",
       "       'segment', 'genre', 'subgenre', 'venue', 'city', 'country', 'address',\n",
       "       'upcoming_events'],\n",
       "      dtype='object')"
      ]
     },
     "execution_count": 15,
     "metadata": {},
     "output_type": "execute_result"
    }
   ],
   "source": [
    "df_events.columns"
   ]
  },
  {
   "cell_type": "code",
   "execution_count": 17,
   "id": "14e174a7",
   "metadata": {},
   "outputs": [
    {
     "data": {
      "text/plain": [
       "name               362\n",
       "description        122\n",
       "url                384\n",
       "locale               2\n",
       "timezone             2\n",
       "date               216\n",
       "time                15\n",
       "segment              4\n",
       "genre               20\n",
       "subgenre            29\n",
       "venue               18\n",
       "city                 2\n",
       "country              2\n",
       "address             43\n",
       "upcoming_events     25\n",
       "dtype: int64"
      ]
     },
     "execution_count": 17,
     "metadata": {},
     "output_type": "execute_result"
    }
   ],
   "source": [
    "df_events.nunique()"
   ]
  },
  {
   "cell_type": "code",
   "execution_count": 24,
   "id": "719940e0",
   "metadata": {},
   "outputs": [
    {
     "data": {
      "text/plain": [
       "202    2025-05-21\n",
       "345    2025-05-22\n",
       "13     2025-05-22\n",
       "214    2025-05-23\n",
       "154    2025-05-23\n",
       "          ...    \n",
       "115    2026-12-04\n",
       "30     2027-01-05\n",
       "131    2027-01-24\n",
       "357    2027-02-01\n",
       "122    2027-09-18\n",
       "Name: date, Length: 393, dtype: object"
      ]
     },
     "execution_count": 24,
     "metadata": {},
     "output_type": "execute_result"
    }
   ],
   "source": [
    "dates = df_events['date'].sort_values()\n",
    "dates"
   ]
  },
  {
   "cell_type": "code",
   "execution_count": 25,
   "id": "9750b022",
   "metadata": {},
   "outputs": [
    {
     "data": {
      "text/plain": [
       "array(['20:00:00', '20:30:00', '19:00:00', '16:00:00', '19:30:00',\n",
       "       '15:00:00', '18:00:00', '17:00:00', '19:45:00', '18:30:00',\n",
       "       '17:30:00', '21:00:00', nan, '23:00:00', '15:30:00', '10:00:00'],\n",
       "      dtype=object)"
      ]
     },
     "execution_count": 25,
     "metadata": {},
     "output_type": "execute_result"
    }
   ],
   "source": [
    "df_events['time'].unique()"
   ]
  },
  {
   "cell_type": "code",
   "execution_count": 37,
   "id": "b51830ef",
   "metadata": {},
   "outputs": [],
   "source": [
    "# How to retrieve the events at a specific time:\n",
    "# df_events.loc[df_events['time'] == hour] for hour in df_events['time'].unique()"
   ]
  },
  {
   "cell_type": "code",
   "execution_count": null,
   "id": "d00bb3ad",
   "metadata": {},
   "outputs": [],
   "source": []
  }
 ],
 "metadata": {
  "kernelspec": {
   "display_name": "base",
   "language": "python",
   "name": "python3"
  },
  "language_info": {
   "codemirror_mode": {
    "name": "ipython",
    "version": 3
   },
   "file_extension": ".py",
   "mimetype": "text/x-python",
   "name": "python",
   "nbconvert_exporter": "python",
   "pygments_lexer": "ipython3",
   "version": "3.12.7"
  }
 },
 "nbformat": 4,
 "nbformat_minor": 5
}
