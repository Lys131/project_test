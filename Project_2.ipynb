{
 "cells": [
  {
   "cell_type": "markdown",
   "id": "c36a7057",
   "metadata": {},
   "source": [
    "# Ticketmaster API Project"
   ]
  },
  {
   "cell_type": "markdown",
   "id": "db7a4e1a",
   "metadata": {},
   "source": [
    "Using the Discovery API of the Ticketmaster website, we managed to get the information about the events of Berlin and Toulouse.\n",
    "These data were saved in a csv file."
   ]
  },
  {
   "cell_type": "code",
   "execution_count": 1,
   "id": "0feaa632",
   "metadata": {},
   "outputs": [
    {
     "data": {
      "text/html": [
       "<div>\n",
       "<style scoped>\n",
       "    .dataframe tbody tr th:only-of-type {\n",
       "        vertical-align: middle;\n",
       "    }\n",
       "\n",
       "    .dataframe tbody tr th {\n",
       "        vertical-align: top;\n",
       "    }\n",
       "\n",
       "    .dataframe thead th {\n",
       "        text-align: right;\n",
       "    }\n",
       "</style>\n",
       "<table border=\"1\" class=\"dataframe\">\n",
       "  <thead>\n",
       "    <tr style=\"text-align: right;\">\n",
       "      <th></th>\n",
       "      <th>Unnamed: 0</th>\n",
       "      <th>name</th>\n",
       "      <th>description</th>\n",
       "      <th>url</th>\n",
       "      <th>locale</th>\n",
       "      <th>timezone</th>\n",
       "      <th>date</th>\n",
       "      <th>time</th>\n",
       "      <th>segment</th>\n",
       "      <th>genre</th>\n",
       "      <th>subgenre</th>\n",
       "      <th>venue</th>\n",
       "      <th>city</th>\n",
       "      <th>country</th>\n",
       "      <th>address</th>\n",
       "      <th>upcoming_events</th>\n",
       "    </tr>\n",
       "  </thead>\n",
       "  <tbody>\n",
       "    <tr>\n",
       "      <th>0</th>\n",
       "      <td>0</td>\n",
       "      <td>15 000 voix pour les legendes du rock</td>\n",
       "      <td>en tournée à partir de 2026vivez une expérienc...</td>\n",
       "      <td>https://www.ticketmaster.fr/fr/manifestation/1...</td>\n",
       "      <td>fr-fr</td>\n",
       "      <td>Europe/Paris</td>\n",
       "      <td>2026-06-05</td>\n",
       "      <td>20:00:00</td>\n",
       "      <td>Music</td>\n",
       "      <td>Rock</td>\n",
       "      <td>Pop</td>\n",
       "      <td>zenith toulouse metropole</td>\n",
       "      <td>Toulouse</td>\n",
       "      <td>France</td>\n",
       "      <td>11 avenue raymond badiou</td>\n",
       "      <td>111</td>\n",
       "    </tr>\n",
       "    <tr>\n",
       "      <th>1</th>\n",
       "      <td>1</td>\n",
       "      <td>dirty dancing - l'ecran pop cinéma-karaoké:dir...</td>\n",
       "      <td>tal ticket présente : l'ecran pop cinéma-karao...</td>\n",
       "      <td>https://www.ticketmaster.fr/fr/manifestation/d...</td>\n",
       "      <td>fr-fr</td>\n",
       "      <td>Europe/Paris</td>\n",
       "      <td>2025-06-06</td>\n",
       "      <td>20:00:00</td>\n",
       "      <td>Film</td>\n",
       "      <td>Music</td>\n",
       "      <td>Music</td>\n",
       "      <td>cinema pathe wilson</td>\n",
       "      <td>Toulouse</td>\n",
       "      <td>France</td>\n",
       "      <td>3 pl. du président thomas wilson</td>\n",
       "      <td>2</td>\n",
       "    </tr>\n",
       "    <tr>\n",
       "      <th>2</th>\n",
       "      <td>2</td>\n",
       "      <td>mamma mia ! - l'ecran pop cinéma-karaoké : mam...</td>\n",
       "      <td>tal ticket présente : l'ecran pop cinéma-karao...</td>\n",
       "      <td>https://www.ticketmaster.fr/fr/manifestation/m...</td>\n",
       "      <td>fr-fr</td>\n",
       "      <td>Europe/Paris</td>\n",
       "      <td>2025-09-25</td>\n",
       "      <td>20:00:00</td>\n",
       "      <td>Film</td>\n",
       "      <td>Music</td>\n",
       "      <td>Music</td>\n",
       "      <td>cinema pathe wilson</td>\n",
       "      <td>Toulouse</td>\n",
       "      <td>France</td>\n",
       "      <td>3 pl. du président thomas wilson</td>\n",
       "      <td>2</td>\n",
       "    </tr>\n",
       "  </tbody>\n",
       "</table>\n",
       "</div>"
      ],
      "text/plain": [
       "   Unnamed: 0                                               name  \\\n",
       "0           0              15 000 voix pour les legendes du rock   \n",
       "1           1  dirty dancing - l'ecran pop cinéma-karaoké:dir...   \n",
       "2           2  mamma mia ! - l'ecran pop cinéma-karaoké : mam...   \n",
       "\n",
       "                                         description  \\\n",
       "0  en tournée à partir de 2026vivez une expérienc...   \n",
       "1  tal ticket présente : l'ecran pop cinéma-karao...   \n",
       "2  tal ticket présente : l'ecran pop cinéma-karao...   \n",
       "\n",
       "                                                 url locale      timezone  \\\n",
       "0  https://www.ticketmaster.fr/fr/manifestation/1...  fr-fr  Europe/Paris   \n",
       "1  https://www.ticketmaster.fr/fr/manifestation/d...  fr-fr  Europe/Paris   \n",
       "2  https://www.ticketmaster.fr/fr/manifestation/m...  fr-fr  Europe/Paris   \n",
       "\n",
       "         date      time segment  genre subgenre                      venue  \\\n",
       "0  2026-06-05  20:00:00   Music   Rock      Pop  zenith toulouse metropole   \n",
       "1  2025-06-06  20:00:00    Film  Music    Music        cinema pathe wilson   \n",
       "2  2025-09-25  20:00:00    Film  Music    Music        cinema pathe wilson   \n",
       "\n",
       "       city country                           address  upcoming_events  \n",
       "0  Toulouse  France          11 avenue raymond badiou              111  \n",
       "1  Toulouse  France  3 pl. du président thomas wilson                2  \n",
       "2  Toulouse  France  3 pl. du président thomas wilson                2  "
      ]
     },
     "execution_count": 1,
     "metadata": {},
     "output_type": "execute_result"
    }
   ],
   "source": [
    "import pandas as pd\n",
    "import json\n",
    "url = \"~/Desktop/DATA_FT_May_2025/Week 3/data_events.csv\"\n",
    "\n",
    "#Creating a DataFrame from the csv file:\n",
    "df_events = pd.read_csv(url)\n",
    "df_events.head(3)"
   ]
  },
  {
   "cell_type": "code",
   "execution_count": 2,
   "id": "23be1915",
   "metadata": {},
   "outputs": [],
   "source": [
    "# Erasing the duplicated index column:\n",
    "df_events.drop(\"Unnamed: 0\", axis = 1, inplace = True)"
   ]
  },
  {
   "cell_type": "code",
   "execution_count": 3,
   "id": "3f3f63f8",
   "metadata": {},
   "outputs": [
    {
     "data": {
      "text/html": [
       "<div>\n",
       "<style scoped>\n",
       "    .dataframe tbody tr th:only-of-type {\n",
       "        vertical-align: middle;\n",
       "    }\n",
       "\n",
       "    .dataframe tbody tr th {\n",
       "        vertical-align: top;\n",
       "    }\n",
       "\n",
       "    .dataframe thead th {\n",
       "        text-align: right;\n",
       "    }\n",
       "</style>\n",
       "<table border=\"1\" class=\"dataframe\">\n",
       "  <thead>\n",
       "    <tr style=\"text-align: right;\">\n",
       "      <th></th>\n",
       "      <th>name</th>\n",
       "      <th>description</th>\n",
       "      <th>url</th>\n",
       "      <th>locale</th>\n",
       "      <th>timezone</th>\n",
       "      <th>date</th>\n",
       "      <th>time</th>\n",
       "      <th>segment</th>\n",
       "      <th>genre</th>\n",
       "      <th>subgenre</th>\n",
       "      <th>venue</th>\n",
       "      <th>city</th>\n",
       "      <th>country</th>\n",
       "      <th>address</th>\n",
       "      <th>upcoming_events</th>\n",
       "    </tr>\n",
       "  </thead>\n",
       "  <tbody>\n",
       "    <tr>\n",
       "      <th>0</th>\n",
       "      <td>15 000 voix pour les legendes du rock</td>\n",
       "      <td>en tournée à partir de 2026vivez une expérienc...</td>\n",
       "      <td>https://www.ticketmaster.fr/fr/manifestation/1...</td>\n",
       "      <td>fr-fr</td>\n",
       "      <td>Europe/Paris</td>\n",
       "      <td>2026-06-05</td>\n",
       "      <td>20:00:00</td>\n",
       "      <td>Music</td>\n",
       "      <td>Rock</td>\n",
       "      <td>Pop</td>\n",
       "      <td>zenith toulouse metropole</td>\n",
       "      <td>Toulouse</td>\n",
       "      <td>France</td>\n",
       "      <td>11 avenue raymond badiou</td>\n",
       "      <td>111</td>\n",
       "    </tr>\n",
       "    <tr>\n",
       "      <th>1</th>\n",
       "      <td>dirty dancing - l'ecran pop cinéma-karaoké:dir...</td>\n",
       "      <td>tal ticket présente : l'ecran pop cinéma-karao...</td>\n",
       "      <td>https://www.ticketmaster.fr/fr/manifestation/d...</td>\n",
       "      <td>fr-fr</td>\n",
       "      <td>Europe/Paris</td>\n",
       "      <td>2025-06-06</td>\n",
       "      <td>20:00:00</td>\n",
       "      <td>Film</td>\n",
       "      <td>Music</td>\n",
       "      <td>Music</td>\n",
       "      <td>cinema pathe wilson</td>\n",
       "      <td>Toulouse</td>\n",
       "      <td>France</td>\n",
       "      <td>3 pl. du président thomas wilson</td>\n",
       "      <td>2</td>\n",
       "    </tr>\n",
       "    <tr>\n",
       "      <th>2</th>\n",
       "      <td>mamma mia ! - l'ecran pop cinéma-karaoké : mam...</td>\n",
       "      <td>tal ticket présente : l'ecran pop cinéma-karao...</td>\n",
       "      <td>https://www.ticketmaster.fr/fr/manifestation/m...</td>\n",
       "      <td>fr-fr</td>\n",
       "      <td>Europe/Paris</td>\n",
       "      <td>2025-09-25</td>\n",
       "      <td>20:00:00</td>\n",
       "      <td>Film</td>\n",
       "      <td>Music</td>\n",
       "      <td>Music</td>\n",
       "      <td>cinema pathe wilson</td>\n",
       "      <td>Toulouse</td>\n",
       "      <td>France</td>\n",
       "      <td>3 pl. du président thomas wilson</td>\n",
       "      <td>2</td>\n",
       "    </tr>\n",
       "  </tbody>\n",
       "</table>\n",
       "</div>"
      ],
      "text/plain": [
       "                                                name  \\\n",
       "0              15 000 voix pour les legendes du rock   \n",
       "1  dirty dancing - l'ecran pop cinéma-karaoké:dir...   \n",
       "2  mamma mia ! - l'ecran pop cinéma-karaoké : mam...   \n",
       "\n",
       "                                         description  \\\n",
       "0  en tournée à partir de 2026vivez une expérienc...   \n",
       "1  tal ticket présente : l'ecran pop cinéma-karao...   \n",
       "2  tal ticket présente : l'ecran pop cinéma-karao...   \n",
       "\n",
       "                                                 url locale      timezone  \\\n",
       "0  https://www.ticketmaster.fr/fr/manifestation/1...  fr-fr  Europe/Paris   \n",
       "1  https://www.ticketmaster.fr/fr/manifestation/d...  fr-fr  Europe/Paris   \n",
       "2  https://www.ticketmaster.fr/fr/manifestation/m...  fr-fr  Europe/Paris   \n",
       "\n",
       "         date      time segment  genre subgenre                      venue  \\\n",
       "0  2026-06-05  20:00:00   Music   Rock      Pop  zenith toulouse metropole   \n",
       "1  2025-06-06  20:00:00    Film  Music    Music        cinema pathe wilson   \n",
       "2  2025-09-25  20:00:00    Film  Music    Music        cinema pathe wilson   \n",
       "\n",
       "       city country                           address  upcoming_events  \n",
       "0  Toulouse  France          11 avenue raymond badiou              111  \n",
       "1  Toulouse  France  3 pl. du président thomas wilson                2  \n",
       "2  Toulouse  France  3 pl. du président thomas wilson                2  "
      ]
     },
     "execution_count": 3,
     "metadata": {},
     "output_type": "execute_result"
    }
   ],
   "source": [
    "# Checking the structure of the dataframe:\n",
    "df_events.head(3)"
   ]
  },
  {
   "cell_type": "code",
   "execution_count": 4,
   "id": "af5a970a",
   "metadata": {},
   "outputs": [
    {
     "data": {
      "text/plain": [
       "Index(['name', 'description', 'url', 'locale', 'timezone', 'date', 'time',\n",
       "       'segment', 'genre', 'subgenre', 'venue', 'city', 'country', 'address',\n",
       "       'upcoming_events'],\n",
       "      dtype='object')"
      ]
     },
     "execution_count": 4,
     "metadata": {},
     "output_type": "execute_result"
    }
   ],
   "source": [
    "# Checking the columns of the dataframe:\n",
    "df_events.columns"
   ]
  },
  {
   "cell_type": "code",
   "execution_count": 6,
   "id": "14e174a7",
   "metadata": {},
   "outputs": [
    {
     "data": {
      "text/plain": [
       "name               362\n",
       "description        122\n",
       "url                384\n",
       "locale               2\n",
       "timezone             2\n",
       "date               216\n",
       "time                15\n",
       "segment              4\n",
       "genre               20\n",
       "subgenre            29\n",
       "venue               18\n",
       "city                 2\n",
       "country              2\n",
       "address             43\n",
       "upcoming_events     25\n",
       "dtype: int64"
      ]
     },
     "execution_count": 6,
     "metadata": {},
     "output_type": "execute_result"
    }
   ],
   "source": [
    "# Checking the amount of unique values for each dimension:\n",
    "df_events.nunique()"
   ]
  },
  {
   "cell_type": "code",
   "execution_count": 6,
   "id": "719940e0",
   "metadata": {},
   "outputs": [
    {
     "data": {
      "text/plain": [
       "time\n",
       "20:00:00    255\n",
       "19:30:00     34\n",
       "19:00:00     32\n",
       "20:30:00     31\n",
       "18:00:00     11\n",
       "17:00:00      7\n",
       "19:45:00      6\n",
       "15:00:00      3\n",
       "18:30:00      2\n",
       "17:30:00      2\n",
       "15:30:00      2\n",
       "16:00:00      1\n",
       "21:00:00      1\n",
       "23:00:00      1\n",
       "10:00:00      1\n",
       "Name: count, dtype: int64"
      ]
     },
     "execution_count": 6,
     "metadata": {},
     "output_type": "execute_result"
    }
   ],
   "source": [
    "df_events['time'].value_counts()"
   ]
  },
  {
   "cell_type": "code",
   "execution_count": 7,
   "id": "d00bb3ad",
   "metadata": {},
   "outputs": [
    {
     "data": {
      "text/plain": [
       "array(['Music', 'Film', 'Arts & Theatre', 'Miscellaneous'], dtype=object)"
      ]
     },
     "execution_count": 7,
     "metadata": {},
     "output_type": "execute_result"
    }
   ],
   "source": [
    "# Verifying segment's values:\n",
    "df_events[\"segment\"].unique()\n"
   ]
  },
  {
   "cell_type": "code",
   "execution_count": 8,
   "id": "21ef2a99",
   "metadata": {},
   "outputs": [
    {
     "data": {
      "text/plain": [
       "segment\n",
       "Music             370\n",
       "Film               12\n",
       "Arts & Theatre     10\n",
       "Miscellaneous       1\n",
       "Name: count, dtype: int64"
      ]
     },
     "execution_count": 8,
     "metadata": {},
     "output_type": "execute_result"
    }
   ],
   "source": [
    "# Proportion of events for each segment:\n",
    "df_events[\"segment\"].value_counts()"
   ]
  },
  {
   "cell_type": "code",
   "execution_count": null,
   "id": "1980861a",
   "metadata": {},
   "outputs": [
    {
     "data": {
      "text/plain": [
       "array(['Rock', 'Music', \"Children's Music\", 'Pop', 'Metal',\n",
       "       'Chanson Francaise', 'R&B', 'Jazz', 'Hip-Hop/Rap',\n",
       "       'Dance/Electronic', 'Undefined', 'Religious', 'World',\n",
       "       'Alternative', 'Folk', 'Spectacular', 'Theatre', 'Classical',\n",
       "       'Other', 'Family'], dtype=object)"
      ]
     },
     "execution_count": 11,
     "metadata": {},
     "output_type": "execute_result"
    }
   ],
   "source": [
    "# Types of genre:\n",
    "df_events[\"genre\"].unique()"
   ]
  },
  {
   "cell_type": "code",
   "execution_count": 9,
   "id": "f1847f1a",
   "metadata": {},
   "outputs": [
    {
     "data": {
      "text/plain": [
       "genre\n",
       "Rock                 169\n",
       "Hip-Hop/Rap           60\n",
       "Chanson Francaise     50\n",
       "Alternative           17\n",
       "Pop                   13\n",
       "Dance/Electronic      12\n",
       "Music                 12\n",
       "Children's Music      11\n",
       "Classical             11\n",
       "Metal                  9\n",
       "World                  7\n",
       "Undefined              6\n",
       "Jazz                   4\n",
       "Folk                   4\n",
       "R&B                    2\n",
       "Other                  2\n",
       "Religious              1\n",
       "Spectacular            1\n",
       "Theatre                1\n",
       "Family                 1\n",
       "Name: count, dtype: int64"
      ]
     },
     "execution_count": 9,
     "metadata": {},
     "output_type": "execute_result"
    }
   ],
   "source": [
    "# Number of events of each genre:\n",
    "df_events[\"genre\"].value_counts()"
   ]
  },
  {
   "cell_type": "code",
   "execution_count": 10,
   "id": "7168a9e1",
   "metadata": {},
   "outputs": [
    {
     "data": {
      "text/plain": [
       "array(['Pop', 'Music', \"Children's Music\", 'Adult Contemporary', 'Metal',\n",
       "       'Chanson Francaise', 'R&B', 'Jazz', 'Hip-Hop/Rap',\n",
       "       'Dance/Electronic', 'Undefined', 'Gospel', 'World', 'Hard Rock',\n",
       "       'Heavy Metal', 'Alternative Rock', 'Alternative', 'Indie Rock',\n",
       "       'Indie Pop', 'Pop Rock', 'Urban', 'Folk', 'Spectacular',\n",
       "       'Miscellaneous', 'Classical/Vocal', 'Folk Rock', 'Soul', 'Other',\n",
       "       'Europe'], dtype=object)"
      ]
     },
     "execution_count": 10,
     "metadata": {},
     "output_type": "execute_result"
    }
   ],
   "source": [
    "# Types of subgenre:\n",
    "df_events[\"subgenre\"].unique()"
   ]
  },
  {
   "cell_type": "code",
   "execution_count": 11,
   "id": "d394875f",
   "metadata": {},
   "outputs": [
    {
     "data": {
      "text/plain": [
       "subgenre\n",
       "Pop                   167\n",
       "Hip-Hop/Rap            59\n",
       "Chanson Francaise      50\n",
       "Alternative Rock       14\n",
       "Dance/Electronic       12\n",
       "Music                  12\n",
       "Children's Music       11\n",
       "Classical/Vocal        11\n",
       "Hard Rock               8\n",
       "Metal                   8\n",
       "Indie Pop               6\n",
       "Europe                  6\n",
       "Undefined               6\n",
       "Jazz                    4\n",
       "Other                   3\n",
       "Folk                    3\n",
       "World                   1\n",
       "Spectacular             1\n",
       "Soul                    1\n",
       "Folk Rock               1\n",
       "Adult Contemporary      1\n",
       "Miscellaneous           1\n",
       "Urban                   1\n",
       "Gospel                  1\n",
       "Pop Rock                1\n",
       "R&B                     1\n",
       "Indie Rock              1\n",
       "Alternative             1\n",
       "Heavy Metal             1\n",
       "Name: count, dtype: int64"
      ]
     },
     "execution_count": 11,
     "metadata": {},
     "output_type": "execute_result"
    }
   ],
   "source": [
    "# Number of events of each subgenre:\n",
    "df_events[\"subgenre\"].value_counts()"
   ]
  },
  {
   "cell_type": "code",
   "execution_count": 13,
   "id": "07a5bb79",
   "metadata": {},
   "outputs": [
    {
     "data": {
      "text/plain": [
       "18"
      ]
     },
     "execution_count": 13,
     "metadata": {},
     "output_type": "execute_result"
    }
   ],
   "source": [
    "# Number of venues:\n",
    "df_events[\"venue\"].nunique()"
   ]
  },
  {
   "cell_type": "code",
   "execution_count": 14,
   "id": "29106bc5",
   "metadata": {},
   "outputs": [
    {
     "data": {
      "text/plain": [
       "venue\n",
       "uber arena                         87\n",
       "zenith toulouse metropole          62\n",
       "casino - barriere                  26\n",
       "uber eats music hall               18\n",
       "la cabane                          14\n",
       "le rex de toulouse                 14\n",
       "tempodrom                           6\n",
       "le metronum                         5\n",
       "prairie des filtres                 5\n",
       "columbia theater                    5\n",
       "lark                                2\n",
       "comedie de la roseraie              2\n",
       "cinema pathe wilson                 2\n",
       "halle aux grains                    2\n",
       "halle de la machine                 1\n",
       "festsaal kreuzberg - biergarten     1\n",
       "dstrkt                              1\n",
       "flughafen tempelhof                 1\n",
       "Name: count, dtype: int64"
      ]
     },
     "execution_count": 14,
     "metadata": {},
     "output_type": "execute_result"
    }
   ],
   "source": [
    "# Number of events for each venue:\n",
    "df_events[\"venue\"].value_counts()"
   ]
  },
  {
   "cell_type": "code",
   "execution_count": 17,
   "id": "381c8cc6",
   "metadata": {},
   "outputs": [],
   "source": [
    "# df_events.loc[df_events[\"venue\"] == \"zenith toulouse metropole\"]"
   ]
  },
  {
   "cell_type": "markdown",
   "id": "ba4d806a",
   "metadata": {},
   "source": [
    "## **Events per city**"
   ]
  },
  {
   "cell_type": "code",
   "execution_count": 18,
   "id": "396f0b33",
   "metadata": {},
   "outputs": [],
   "source": [
    "import seaborn as sns"
   ]
  },
  {
   "cell_type": "markdown",
   "id": "1ecbe5a0",
   "metadata": {},
   "source": [
    "*Plotting a graph to visualize the count of events at both cities:*"
   ]
  },
  {
   "cell_type": "code",
   "execution_count": 121,
   "id": "115cafee",
   "metadata": {},
   "outputs": [
    {
     "data": {
      "text/plain": [
       "<Axes: xlabel='city', ylabel='count'>"
      ]
     },
     "execution_count": 121,
     "metadata": {},
     "output_type": "execute_result"
    },
    {
     "data": {
      "image/png": "[encoded data removed]",
      "text/plain": [
       "<Figure size 640x480 with 1 Axes>"
      ]
     },
     "metadata": {},
     "output_type": "display_data"
    }
   ],
   "source": [
    "sns.countplot(x='city', data=df_events, hue='city', palette='bright')"
   ]
  },
  {
   "cell_type": "markdown",
   "id": "72669ac5",
   "metadata": {},
   "source": [
    "*Let's check how the amount of events for each city and its populations relate:*"
   ]
  },
  {
   "cell_type": "markdown",
   "id": "f52bd46c",
   "metadata": {},
   "source": [
    "Berlin Population: 3.432 million (Dec 31, 2023)\n",
    "\n",
    "Toulouse Population: 511 684 (Dec 19, 2024)\n"
   ]
  },
  {
   "cell_type": "code",
   "execution_count": 80,
   "id": "df7c8679",
   "metadata": {},
   "outputs": [],
   "source": [
    "# Defining population variables:\n",
    "berlin_pop = 3432000\n",
    "toulouse_pop = 511684\n",
    "\n",
    "#Number of events for each city:\n",
    "berlin_events = 260\n",
    "toulouse_events = 133\n",
    "\n",
    "#Population/event rate for each city:\n",
    "pop_event_rate_toulouse = round((toulouse_pop/toulouse_events), None)\n",
    "pop_event_rate_berlin = round((berlin_pop/berlin_events), None)\n"
   ]
  },
  {
   "cell_type": "code",
   "execution_count": 81,
   "id": "cfac88cd",
   "metadata": {},
   "outputs": [
    {
     "data": {
      "text/html": [
       "<div>\n",
       "<style scoped>\n",
       "    .dataframe tbody tr th:only-of-type {\n",
       "        vertical-align: middle;\n",
       "    }\n",
       "\n",
       "    .dataframe tbody tr th {\n",
       "        vertical-align: top;\n",
       "    }\n",
       "\n",
       "    .dataframe thead th {\n",
       "        text-align: right;\n",
       "    }\n",
       "</style>\n",
       "<table border=\"1\" class=\"dataframe\">\n",
       "  <thead>\n",
       "    <tr style=\"text-align: right;\">\n",
       "      <th></th>\n",
       "      <th>population_event_rate</th>\n",
       "    </tr>\n",
       "  </thead>\n",
       "  <tbody>\n",
       "    <tr>\n",
       "      <th>Toulouse</th>\n",
       "      <td>3847</td>\n",
       "    </tr>\n",
       "    <tr>\n",
       "      <th>Berlin</th>\n",
       "      <td>13200</td>\n",
       "    </tr>\n",
       "  </tbody>\n",
       "</table>\n",
       "</div>"
      ],
      "text/plain": [
       "          population_event_rate\n",
       "Toulouse                   3847\n",
       "Berlin                    13200"
      ]
     },
     "execution_count": 81,
     "metadata": {},
     "output_type": "execute_result"
    }
   ],
   "source": [
    "#Transforming the data into a dataframe:\n",
    "pop_event_rates = [pop_event_rate_toulouse, pop_event_rate_berlin]\n",
    "df_pop_event = pd.DataFrame(pop_event_rates, index=[\"Toulouse\", \"Berlin\"], columns=[\"population_event_rate\"])\n",
    "df_pop_event"
   ]
  },
  {
   "cell_type": "markdown",
   "id": "85d1fecb",
   "metadata": {},
   "source": [
    "*Now let's see how the events are divided regarding their start time:*"
   ]
  },
  {
   "cell_type": "code",
   "execution_count": null,
   "id": "d0885a11",
   "metadata": {},
   "outputs": [
    {
     "data": {
      "image/png": "[encoded data removed]",
      "text/plain": [
       "<Figure size 640x480 with 1 Axes>"
      ]
     },
     "metadata": {},
     "output_type": "display_data"
    }
   ],
   "source": [
    "import matplotlib.pyplot as plt\n",
    "events_times = sns.countplot(x='time', data=df_events, hue='time', palette='bright')\n",
    "events_times.tick_params(axis='x', labelrotation = 45)\n",
    "plt.title('Hours of Events in Berlin and Toulouse', fontsize=16)\n",
    "plt.xlabel('Event Time', fontsize=14)\n",
    "plt.ylabel('Number of Events', fontsize=14)\n",
    "plt.xticks(fontsize=10)\n",
    "plt.yticks(fontsize=10)\n",
    "plt.legend('',frameon=False)\n",
    "plt.show()\n"
   ]
  },
  {
   "cell_type": "markdown",
   "id": "a0329b32",
   "metadata": {},
   "source": [
    "*And now regarding the venues of the events:*"
   ]
  },
  {
   "cell_type": "code",
   "execution_count": 140,
   "id": "f36de5a6",
   "metadata": {},
   "outputs": [
    {
     "data": {
      "image/png": "[encoded data removed]",
      "text/plain": [
       "<Figure size 640x480 with 1 Axes>"
      ]
     },
     "metadata": {},
     "output_type": "display_data"
    }
   ],
   "source": [
    "events_venues = sns.countplot(x=\"venue\", data=df_events, hue='venue', palette='bright')\n",
    "events_venues.tick_params(axis='x', labelrotation = 60)\n",
    "plt.title('Venues of Events in Berlin and Toulouse', fontsize=16)\n",
    "plt.xlabel('Venues', fontsize=14)\n",
    "plt.ylabel('Number of Events', fontsize=14)\n",
    "plt.xticks('')\n",
    "plt.yticks(fontsize=10)\n",
    "plt.legend(fontsize=6)\n",
    "plt.show()"
   ]
  },
  {
   "cell_type": "markdown",
   "id": "4bec33d2",
   "metadata": {},
   "source": [
    "*Selecting the 6 venues with more upcoming events:*"
   ]
  },
  {
   "cell_type": "code",
   "execution_count": 57,
   "id": "b6ea5e6e",
   "metadata": {},
   "outputs": [
    {
     "data": {
      "text/html": [
       "<div>\n",
       "<style scoped>\n",
       "    .dataframe tbody tr th:only-of-type {\n",
       "        vertical-align: middle;\n",
       "    }\n",
       "\n",
       "    .dataframe tbody tr th {\n",
       "        vertical-align: top;\n",
       "    }\n",
       "\n",
       "    .dataframe thead th {\n",
       "        text-align: right;\n",
       "    }\n",
       "</style>\n",
       "<table border=\"1\" class=\"dataframe\">\n",
       "  <thead>\n",
       "    <tr style=\"text-align: right;\">\n",
       "      <th></th>\n",
       "      <th>venue</th>\n",
       "      <th>events</th>\n",
       "    </tr>\n",
       "  </thead>\n",
       "  <tbody>\n",
       "    <tr>\n",
       "      <th>0</th>\n",
       "      <td>uber arena</td>\n",
       "      <td>87</td>\n",
       "    </tr>\n",
       "    <tr>\n",
       "      <th>1</th>\n",
       "      <td>zenith toulouse metropole</td>\n",
       "      <td>62</td>\n",
       "    </tr>\n",
       "    <tr>\n",
       "      <th>2</th>\n",
       "      <td>casino - barriere</td>\n",
       "      <td>26</td>\n",
       "    </tr>\n",
       "    <tr>\n",
       "      <th>3</th>\n",
       "      <td>uber eats music hall</td>\n",
       "      <td>18</td>\n",
       "    </tr>\n",
       "    <tr>\n",
       "      <th>4</th>\n",
       "      <td>la cabane</td>\n",
       "      <td>14</td>\n",
       "    </tr>\n",
       "    <tr>\n",
       "      <th>5</th>\n",
       "      <td>le rex de toulouse</td>\n",
       "      <td>14</td>\n",
       "    </tr>\n",
       "  </tbody>\n",
       "</table>\n",
       "</div>"
      ],
      "text/plain": [
       "                       venue  events\n",
       "0                 uber arena      87\n",
       "1  zenith toulouse metropole      62\n",
       "2          casino - barriere      26\n",
       "3       uber eats music hall      18\n",
       "4                  la cabane      14\n",
       "5         le rex de toulouse      14"
      ]
     },
     "execution_count": 57,
     "metadata": {},
     "output_type": "execute_result"
    }
   ],
   "source": [
    "venue_list= [\"uber arena\",\"zenith toulouse metropole\", \"casino - barriere\", \"uber eats music hall\",\"la cabane\", \"le rex de toulouse\"]\n",
    "event_venue_list= [87, 62, 26, 18,14, 14]\n",
    "df_venues = pd.DataFrame(data=event_venue_list, index = venue_list)\n",
    "\n",
    "df_venues.reset_index(inplace=True)\n",
    "df_venues.columns= [\"venue\", \"events\"]\n",
    "df_venues"
   ]
  },
  {
   "cell_type": "markdown",
   "id": "294a0f0e",
   "metadata": {},
   "source": [
    "*Verifying the capacities for each venue and creating a dataframe:*"
   ]
  },
  {
   "cell_type": "code",
   "execution_count": 82,
   "id": "fb7c0121",
   "metadata": {},
   "outputs": [
    {
     "data": {
      "text/html": [
       "<div>\n",
       "<style scoped>\n",
       "    .dataframe tbody tr th:only-of-type {\n",
       "        vertical-align: middle;\n",
       "    }\n",
       "\n",
       "    .dataframe tbody tr th {\n",
       "        vertical-align: top;\n",
       "    }\n",
       "\n",
       "    .dataframe thead th {\n",
       "        text-align: right;\n",
       "    }\n",
       "</style>\n",
       "<table border=\"1\" class=\"dataframe\">\n",
       "  <thead>\n",
       "    <tr style=\"text-align: right;\">\n",
       "      <th></th>\n",
       "      <th>venue</th>\n",
       "      <th>events</th>\n",
       "      <th>venue_capacity</th>\n",
       "    </tr>\n",
       "  </thead>\n",
       "  <tbody>\n",
       "    <tr>\n",
       "      <th>0</th>\n",
       "      <td>uber arena</td>\n",
       "      <td>87</td>\n",
       "      <td>17000</td>\n",
       "    </tr>\n",
       "    <tr>\n",
       "      <th>1</th>\n",
       "      <td>zenith toulouse metropole</td>\n",
       "      <td>62</td>\n",
       "      <td>11000</td>\n",
       "    </tr>\n",
       "    <tr>\n",
       "      <th>2</th>\n",
       "      <td>casino - barriere</td>\n",
       "      <td>26</td>\n",
       "      <td>1200</td>\n",
       "    </tr>\n",
       "    <tr>\n",
       "      <th>3</th>\n",
       "      <td>uber eats music hall</td>\n",
       "      <td>18</td>\n",
       "      <td>4350</td>\n",
       "    </tr>\n",
       "    <tr>\n",
       "      <th>4</th>\n",
       "      <td>la cabane</td>\n",
       "      <td>14</td>\n",
       "      <td>750</td>\n",
       "    </tr>\n",
       "    <tr>\n",
       "      <th>5</th>\n",
       "      <td>le rex de toulouse</td>\n",
       "      <td>14</td>\n",
       "      <td>400</td>\n",
       "    </tr>\n",
       "  </tbody>\n",
       "</table>\n",
       "</div>"
      ],
      "text/plain": [
       "                       venue  events  venue_capacity\n",
       "0                 uber arena      87           17000\n",
       "1  zenith toulouse metropole      62           11000\n",
       "2          casino - barriere      26            1200\n",
       "3       uber eats music hall      18            4350\n",
       "4                  la cabane      14             750\n",
       "5         le rex de toulouse      14             400"
      ]
     },
     "execution_count": 82,
     "metadata": {},
     "output_type": "execute_result"
    }
   ],
   "source": [
    "capacities = [17000, 11000, 1200, 4350, 750, 400]\n",
    "capacities_series = pd.Series(data=capacities)\n",
    "df_venues_2 = pd.concat([df_venues, capacities_series], axis=1)\n",
    "df_venues_2.columns= [\"venue\", \"events\", \"venue_capacity\"]\n",
    "df_venues_2"
   ]
  },
  {
   "cell_type": "code",
   "execution_count": null,
   "id": "5955e740",
   "metadata": {},
   "outputs": [],
   "source": []
  }
 ],
 "metadata": {
  "kernelspec": {
   "display_name": "base",
   "language": "python",
   "name": "python3"
  },
  "language_info": {
   "codemirror_mode": {
    "name": "ipython",
    "version": 3
   },
   "file_extension": ".py",
   "mimetype": "text/x-python",
   "name": "python",
   "nbconvert_exporter": "python",
   "pygments_lexer": "ipython3",
   "version": "3.12.7"
  }
 },
 "nbformat": 4,
 "nbformat_minor": 5
}
